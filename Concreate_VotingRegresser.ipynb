{
 "cells": [
  {
   "cell_type": "code",
   "execution_count": 2,
   "metadata": {},
   "outputs": [],
   "source": [
    "import pandas as pd\n",
    "import numpy as np"
   ]
  },
  {
   "cell_type": "code",
   "execution_count": 3,
   "metadata": {},
   "outputs": [],
   "source": [
    "from sklearn.model_selection import train_test_split \n",
    "from sklearn.metrics import confusion_matrix, classification_report\n",
    "from sklearn.metrics import accuracy_score"
   ]
  },
  {
   "cell_type": "code",
   "execution_count": 20,
   "metadata": {},
   "outputs": [],
   "source": [
    "from sklearn.tree import DecisionTreeRegressor\n",
    "from sklearn.linear_model import LinearRegression\n",
    "from sklearn.svm import SVR\n",
    "from sklearn.ensemble import VotingRegressor"
   ]
  },
  {
   "cell_type": "code",
   "execution_count": 21,
   "metadata": {},
   "outputs": [],
   "source": [
    "df=pd.read_csv(\"C:/Users/LENOVO/Desktop/Machine Learning Module/Cases/Concrete Strength/Concrete_Data.csv\")"
   ]
  },
  {
   "cell_type": "code",
   "execution_count": 22,
   "metadata": {},
   "outputs": [
    {
     "data": {
      "text/html": [
       "<div>\n",
       "<style scoped>\n",
       "    .dataframe tbody tr th:only-of-type {\n",
       "        vertical-align: middle;\n",
       "    }\n",
       "\n",
       "    .dataframe tbody tr th {\n",
       "        vertical-align: top;\n",
       "    }\n",
       "\n",
       "    .dataframe thead th {\n",
       "        text-align: right;\n",
       "    }\n",
       "</style>\n",
       "<table border=\"1\" class=\"dataframe\">\n",
       "  <thead>\n",
       "    <tr style=\"text-align: right;\">\n",
       "      <th></th>\n",
       "      <th>Cement</th>\n",
       "      <th>Blast</th>\n",
       "      <th>Fly</th>\n",
       "      <th>Water</th>\n",
       "      <th>Superplasticizer</th>\n",
       "      <th>Coarse</th>\n",
       "      <th>Fine</th>\n",
       "      <th>Age</th>\n",
       "      <th>Strength</th>\n",
       "    </tr>\n",
       "  </thead>\n",
       "  <tbody>\n",
       "    <tr>\n",
       "      <th>0</th>\n",
       "      <td>540.0</td>\n",
       "      <td>0.0</td>\n",
       "      <td>0.0</td>\n",
       "      <td>162.0</td>\n",
       "      <td>2.5</td>\n",
       "      <td>1040.0</td>\n",
       "      <td>676.0</td>\n",
       "      <td>28</td>\n",
       "      <td>79.99</td>\n",
       "    </tr>\n",
       "    <tr>\n",
       "      <th>1</th>\n",
       "      <td>540.0</td>\n",
       "      <td>0.0</td>\n",
       "      <td>0.0</td>\n",
       "      <td>162.0</td>\n",
       "      <td>2.5</td>\n",
       "      <td>1055.0</td>\n",
       "      <td>676.0</td>\n",
       "      <td>28</td>\n",
       "      <td>61.89</td>\n",
       "    </tr>\n",
       "    <tr>\n",
       "      <th>2</th>\n",
       "      <td>332.5</td>\n",
       "      <td>142.5</td>\n",
       "      <td>0.0</td>\n",
       "      <td>228.0</td>\n",
       "      <td>0.0</td>\n",
       "      <td>932.0</td>\n",
       "      <td>594.0</td>\n",
       "      <td>270</td>\n",
       "      <td>40.27</td>\n",
       "    </tr>\n",
       "    <tr>\n",
       "      <th>3</th>\n",
       "      <td>332.5</td>\n",
       "      <td>142.5</td>\n",
       "      <td>0.0</td>\n",
       "      <td>228.0</td>\n",
       "      <td>0.0</td>\n",
       "      <td>932.0</td>\n",
       "      <td>594.0</td>\n",
       "      <td>365</td>\n",
       "      <td>41.05</td>\n",
       "    </tr>\n",
       "    <tr>\n",
       "      <th>4</th>\n",
       "      <td>198.6</td>\n",
       "      <td>132.4</td>\n",
       "      <td>0.0</td>\n",
       "      <td>192.0</td>\n",
       "      <td>0.0</td>\n",
       "      <td>978.4</td>\n",
       "      <td>825.5</td>\n",
       "      <td>360</td>\n",
       "      <td>44.30</td>\n",
       "    </tr>\n",
       "  </tbody>\n",
       "</table>\n",
       "</div>"
      ],
      "text/plain": [
       "   Cement  Blast  Fly  Water  Superplasticizer  Coarse   Fine  Age  Strength\n",
       "0   540.0    0.0  0.0  162.0               2.5  1040.0  676.0   28     79.99\n",
       "1   540.0    0.0  0.0  162.0               2.5  1055.0  676.0   28     61.89\n",
       "2   332.5  142.5  0.0  228.0               0.0   932.0  594.0  270     40.27\n",
       "3   332.5  142.5  0.0  228.0               0.0   932.0  594.0  365     41.05\n",
       "4   198.6  132.4  0.0  192.0               0.0   978.4  825.5  360     44.30"
      ]
     },
     "execution_count": 22,
     "metadata": {},
     "output_type": "execute_result"
    }
   ],
   "source": [
    "df.head()"
   ]
  },
  {
   "cell_type": "code",
   "execution_count": 23,
   "metadata": {},
   "outputs": [],
   "source": [
    "X=df.drop(['Strength'],axis=1)\n"
   ]
  },
  {
   "cell_type": "code",
   "execution_count": 24,
   "metadata": {},
   "outputs": [],
   "source": [
    "y=df['Strength']"
   ]
  },
  {
   "cell_type": "code",
   "execution_count": 15,
   "metadata": {},
   "outputs": [],
   "source": [
    "from sklearn.model_selection import train_test_split\n",
    "X_train, X_test, y_train, y_test = train_test_split(X, y,test_size = 0.2, random_state=42)\n"
   ]
  },
  {
   "cell_type": "code",
   "execution_count": 28,
   "metadata": {},
   "outputs": [],
   "source": [
    "dtr = DecisionTreeRegressor(max_depth=4)\n",
    "lr = LinearRegression()\n",
    "svr = SVR()"
   ]
  },
  {
   "cell_type": "code",
   "execution_count": 29,
   "metadata": {},
   "outputs": [],
   "source": [
    "Voting = VotingRegressor(estimators=[('DT',dtr),\n",
    "                                     ('LR',lr),('SV',svr)],\n",
    "                                     weights=np.array([0.2,0.5,\n",
    "                                                       0.3]))\n"
   ]
  },
  {
   "cell_type": "code",
   "execution_count": 32,
   "metadata": {},
   "outputs": [
    {
     "data": {
      "text/plain": [
       "VotingRegressor(estimators=[('DT', DecisionTreeRegressor(max_depth=4)),\n",
       "                            ('LR', LinearRegression()), ('SV', SVR())],\n",
       "                weights=array([0.2, 0.5, 0.3]))"
      ]
     },
     "execution_count": 32,
     "metadata": {},
     "output_type": "execute_result"
    }
   ],
   "source": [
    "Voting.fit(X_train,y_train)"
   ]
  },
  {
   "cell_type": "code",
   "execution_count": 35,
   "metadata": {},
   "outputs": [],
   "source": [
    "y_pred=Voting.predict(X_test)"
   ]
  },
  {
   "cell_type": "code",
   "execution_count": 36,
   "metadata": {},
   "outputs": [
    {
     "data": {
      "text/plain": [
       "array([49.02724533, 47.21079759, 56.65817327, 44.24755049, 19.83169628,\n",
       "       37.36085398, 28.13081303, 41.22461359, 32.59599727, 38.53804034,\n",
       "       36.72804191, 21.60548167, 52.88578622, 41.75656264, 28.31334271,\n",
       "       35.6213992 , 33.08807262, 26.01578851, 33.33224352, 29.64259242,\n",
       "       35.80024448, 33.78236087, 38.21198228, 24.77346065, 32.09091884,\n",
       "       35.30461617, 18.33451918, 43.90976669, 39.53383942, 24.89047432,\n",
       "       41.68175258, 34.52334074, 39.71736285, 41.58379764, 26.97057767,\n",
       "       34.05574643, 32.3548034 , 36.67300139, 21.69649153, 38.45700028,\n",
       "       24.1415537 , 19.10545707, 32.14267889, 46.7499005 , 21.69963966,\n",
       "       53.69508846, 46.97410555, 49.42520985, 26.75792512, 21.27826097,\n",
       "       39.41219956, 35.41493015, 30.407909  , 29.12420654, 45.98664804,\n",
       "       44.3516184 , 28.94197277, 19.44242419, 32.72531152, 25.0606871 ,\n",
       "       36.55815988, 24.55714996, 32.26262758, 49.23816301, 27.98344133,\n",
       "       26.11298936, 33.16075251, 19.29171777, 28.9283471 , 26.66978131,\n",
       "       22.5232783 , 25.318487  , 18.26279719, 36.69988088, 28.93927668,\n",
       "       21.41477929, 49.45554208, 41.25209386, 50.43384062, 23.15835222,\n",
       "       37.3808092 , 45.35147627, 34.82009124, 30.33754613, 55.52122334,\n",
       "       44.24755049, 32.2645214 , 33.91896225, 26.59361865, 24.40591146,\n",
       "       31.65272271, 55.28486992, 22.95566951, 40.48426212, 37.71340185,\n",
       "       42.1147144 , 27.26744663, 30.14236873, 30.15586904, 31.75049469,\n",
       "       31.54800829, 37.46208145, 41.62385273, 30.62810652, 64.46714638,\n",
       "       18.5239686 , 39.18777594, 31.8709999 , 34.86117533, 48.82623988,\n",
       "       48.96186322, 38.47940456, 28.72571352, 35.1688211 , 39.76618473,\n",
       "       50.39141968, 25.48401239, 37.16607741, 39.85503833, 37.73521788,\n",
       "       30.17489424, 28.17254362, 37.09581933, 32.63604394, 27.54351639,\n",
       "       33.81300852, 45.53945642, 49.05357838, 35.50117049, 33.23386241,\n",
       "       19.37219509, 33.00734874, 22.48597708, 53.29683755, 19.12221735,\n",
       "       49.56190984, 31.03969984, 32.77811796, 29.73215584, 31.95268509,\n",
       "       32.29366096, 35.06518103, 25.60813413, 30.21622245, 45.14811272,\n",
       "       35.84315367, 29.05106928, 20.26915983, 21.43829934, 23.41855486,\n",
       "       36.66240782, 28.36519655, 40.18316714, 26.89326818, 37.22133346,\n",
       "       33.5746399 , 30.98390054, 60.08292718, 47.21079759, 39.21313543,\n",
       "       22.49225941, 53.3967292 , 30.99264169, 45.38588766, 46.09105887,\n",
       "       47.72684108, 39.1502884 , 26.57612784, 42.43633699, 28.44448656,\n",
       "       36.82289479, 24.95115942, 24.67325827, 35.87803081, 34.97791079,\n",
       "       21.65369418, 27.97270793, 38.39533499, 39.32222771, 40.33055686,\n",
       "       33.61037289, 27.79538403, 48.76645859, 40.6608525 , 36.90907917,\n",
       "       43.44433128, 26.96167648, 33.61285115, 38.5355288 , 24.22575098,\n",
       "       39.92386328, 36.9646226 , 36.01523602, 41.53415271, 45.91165868,\n",
       "       29.11384493, 38.72607695, 28.42171385, 25.82966976, 27.2294899 ,\n",
       "       35.26281541, 50.39141968, 25.00179287, 39.10505181, 49.48047888,\n",
       "       34.5077793 ])"
      ]
     },
     "execution_count": 36,
     "metadata": {},
     "output_type": "execute_result"
    }
   ],
   "source": [
    "y_pred"
   ]
  },
  {
   "cell_type": "code",
   "execution_count": 37,
   "metadata": {},
   "outputs": [
    {
     "data": {
      "text/plain": [
       "31     52.91\n",
       "109    55.90\n",
       "136    74.50\n",
       "88     35.30\n",
       "918    10.54\n",
       "       ...  \n",
       "482    56.14\n",
       "545    18.75\n",
       "110    38.00\n",
       "514    74.36\n",
       "602    35.17\n",
       "Name: Strength, Length: 206, dtype: float64"
      ]
     },
     "execution_count": 37,
     "metadata": {},
     "output_type": "execute_result"
    }
   ],
   "source": [
    "y_test"
   ]
  },
  {
   "cell_type": "code",
   "execution_count": 44,
   "metadata": {},
   "outputs": [
    {
     "data": {
      "text/plain": [
       "91.36324913014803"
      ]
     },
     "execution_count": 44,
     "metadata": {},
     "output_type": "execute_result"
    }
   ],
   "source": [
    "from sklearn.metrics import mean_squared_error\n",
    "mean_squared_error(y_test,y_pred)"
   ]
  }
 ],
 "metadata": {
  "kernelspec": {
   "display_name": "Python 3",
   "language": "python",
   "name": "python3"
  },
  "language_info": {
   "codemirror_mode": {
    "name": "ipython",
    "version": 3
   },
   "file_extension": ".py",
   "mimetype": "text/x-python",
   "name": "python",
   "nbconvert_exporter": "python",
   "pygments_lexer": "ipython3",
   "version": "3.8.3"
  }
 },
 "nbformat": 4,
 "nbformat_minor": 4
}
